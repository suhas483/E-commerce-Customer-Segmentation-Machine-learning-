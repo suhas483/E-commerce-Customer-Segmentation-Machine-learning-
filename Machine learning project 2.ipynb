{
 "cells": [
  {
   "cell_type": "markdown",
   "id": "9a8089c3",
   "metadata": {},
   "source": [
    "# 1. Import the required libraries and load the data:"
   ]
  },
  {
   "cell_type": "code",
   "execution_count": 1,
   "id": "19b66e8f",
   "metadata": {},
   "outputs": [],
   "source": [
    "#Load the required libraries and read the dataset\n",
    "import numpy as np\n",
    "import pandas as pd   \n",
    "import seaborn as sns\n",
    "import matplotlib.pyplot as plt\n",
    "import sklearn\n",
    "from sklearn.preprocessing import StandardScaler\n",
    "from sklearn.model_selection import train_test_split\n",
    "from sklearn.metrics import accuracy_score,confusion_matrix\n",
    "import scipy.stats as stats\n",
    "from scipy import stats\n",
    "from sklearn.cluster import KMeans\n",
    "from scipy.stats import zscore\n",
    "from scipy.spatial import distance\n",
    "from scipy.cluster.hierarchy import linkage, dendrogram, fcluster\n",
    "from sklearn.cluster import AgglomerativeClustering\n",
    "from sklearn.metrics import accuracy_score\n",
    "\n",
    "import warnings\n",
    "warnings.filterwarnings('ignore')"
   ]
  },
  {
   "cell_type": "code",
   "execution_count": 2,
   "id": "cef000c3",
   "metadata": {},
   "outputs": [],
   "source": [
    "#Loading the dataset using pandas\n",
    "df=pd.read_csv(\"C:\\\\Users\\\\suhas\\\\Downloads\\\\renttherunway.csv\")"
   ]
  },
  {
   "cell_type": "code",
   "execution_count": 3,
   "id": "5fb867e7",
   "metadata": {},
   "outputs": [
    {
     "data": {
      "text/html": [
       "<div>\n",
       "<style scoped>\n",
       "    .dataframe tbody tr th:only-of-type {\n",
       "        vertical-align: middle;\n",
       "    }\n",
       "\n",
       "    .dataframe tbody tr th {\n",
       "        vertical-align: top;\n",
       "    }\n",
       "\n",
       "    .dataframe thead th {\n",
       "        text-align: right;\n",
       "    }\n",
       "</style>\n",
       "<table border=\"1\" class=\"dataframe\">\n",
       "  <thead>\n",
       "    <tr style=\"text-align: right;\">\n",
       "      <th></th>\n",
       "      <th>Unnamed: 0</th>\n",
       "      <th>fit</th>\n",
       "      <th>user_id</th>\n",
       "      <th>bust size</th>\n",
       "      <th>item_id</th>\n",
       "      <th>weight</th>\n",
       "      <th>rating</th>\n",
       "      <th>rented for</th>\n",
       "      <th>review_text</th>\n",
       "      <th>body type</th>\n",
       "      <th>review_summary</th>\n",
       "      <th>category</th>\n",
       "      <th>height</th>\n",
       "      <th>size</th>\n",
       "      <th>age</th>\n",
       "      <th>review_date</th>\n",
       "    </tr>\n",
       "  </thead>\n",
       "  <tbody>\n",
       "    <tr>\n",
       "      <th>0</th>\n",
       "      <td>0</td>\n",
       "      <td>fit</td>\n",
       "      <td>420272</td>\n",
       "      <td>34d</td>\n",
       "      <td>2260466</td>\n",
       "      <td>137lbs</td>\n",
       "      <td>10.0</td>\n",
       "      <td>vacation</td>\n",
       "      <td>An adorable romper! Belt and zipper were a lit...</td>\n",
       "      <td>hourglass</td>\n",
       "      <td>So many compliments!</td>\n",
       "      <td>romper</td>\n",
       "      <td>5' 8\"</td>\n",
       "      <td>14</td>\n",
       "      <td>28.0</td>\n",
       "      <td>April 20, 2016</td>\n",
       "    </tr>\n",
       "    <tr>\n",
       "      <th>1</th>\n",
       "      <td>1</td>\n",
       "      <td>fit</td>\n",
       "      <td>273551</td>\n",
       "      <td>34b</td>\n",
       "      <td>153475</td>\n",
       "      <td>132lbs</td>\n",
       "      <td>10.0</td>\n",
       "      <td>other</td>\n",
       "      <td>I rented this dress for a photo shoot. The the...</td>\n",
       "      <td>straight &amp; narrow</td>\n",
       "      <td>I felt so glamourous!!!</td>\n",
       "      <td>gown</td>\n",
       "      <td>5' 6\"</td>\n",
       "      <td>12</td>\n",
       "      <td>36.0</td>\n",
       "      <td>June 18, 2013</td>\n",
       "    </tr>\n",
       "    <tr>\n",
       "      <th>2</th>\n",
       "      <td>2</td>\n",
       "      <td>fit</td>\n",
       "      <td>360448</td>\n",
       "      <td>NaN</td>\n",
       "      <td>1063761</td>\n",
       "      <td>NaN</td>\n",
       "      <td>10.0</td>\n",
       "      <td>party</td>\n",
       "      <td>This hugged in all the right places! It was a ...</td>\n",
       "      <td>NaN</td>\n",
       "      <td>It was a great time to celebrate the (almost) ...</td>\n",
       "      <td>sheath</td>\n",
       "      <td>5' 4\"</td>\n",
       "      <td>4</td>\n",
       "      <td>116.0</td>\n",
       "      <td>December 14, 2015</td>\n",
       "    </tr>\n",
       "    <tr>\n",
       "      <th>3</th>\n",
       "      <td>3</td>\n",
       "      <td>fit</td>\n",
       "      <td>909926</td>\n",
       "      <td>34c</td>\n",
       "      <td>126335</td>\n",
       "      <td>135lbs</td>\n",
       "      <td>8.0</td>\n",
       "      <td>formal affair</td>\n",
       "      <td>I rented this for my company's black tie award...</td>\n",
       "      <td>pear</td>\n",
       "      <td>Dress arrived on time and in perfect condition.</td>\n",
       "      <td>dress</td>\n",
       "      <td>5' 5\"</td>\n",
       "      <td>8</td>\n",
       "      <td>34.0</td>\n",
       "      <td>February 12, 2014</td>\n",
       "    </tr>\n",
       "    <tr>\n",
       "      <th>4</th>\n",
       "      <td>4</td>\n",
       "      <td>fit</td>\n",
       "      <td>151944</td>\n",
       "      <td>34b</td>\n",
       "      <td>616682</td>\n",
       "      <td>145lbs</td>\n",
       "      <td>10.0</td>\n",
       "      <td>wedding</td>\n",
       "      <td>I have always been petite in my upper body and...</td>\n",
       "      <td>athletic</td>\n",
       "      <td>Was in love with this dress !!!</td>\n",
       "      <td>gown</td>\n",
       "      <td>5' 9\"</td>\n",
       "      <td>12</td>\n",
       "      <td>27.0</td>\n",
       "      <td>September 26, 2016</td>\n",
       "    </tr>\n",
       "  </tbody>\n",
       "</table>\n",
       "</div>"
      ],
      "text/plain": [
       "   Unnamed: 0  fit  user_id bust size  item_id  weight  rating     rented for  \\\n",
       "0           0  fit   420272       34d  2260466  137lbs    10.0       vacation   \n",
       "1           1  fit   273551       34b   153475  132lbs    10.0          other   \n",
       "2           2  fit   360448       NaN  1063761     NaN    10.0          party   \n",
       "3           3  fit   909926       34c   126335  135lbs     8.0  formal affair   \n",
       "4           4  fit   151944       34b   616682  145lbs    10.0        wedding   \n",
       "\n",
       "                                         review_text          body type  \\\n",
       "0  An adorable romper! Belt and zipper were a lit...          hourglass   \n",
       "1  I rented this dress for a photo shoot. The the...  straight & narrow   \n",
       "2  This hugged in all the right places! It was a ...                NaN   \n",
       "3  I rented this for my company's black tie award...               pear   \n",
       "4  I have always been petite in my upper body and...           athletic   \n",
       "\n",
       "                                      review_summary category height  size  \\\n",
       "0                               So many compliments!   romper  5' 8\"    14   \n",
       "1                            I felt so glamourous!!!     gown  5' 6\"    12   \n",
       "2  It was a great time to celebrate the (almost) ...   sheath  5' 4\"     4   \n",
       "3   Dress arrived on time and in perfect condition.     dress  5' 5\"     8   \n",
       "4                    Was in love with this dress !!!     gown  5' 9\"    12   \n",
       "\n",
       "     age         review_date  \n",
       "0   28.0      April 20, 2016  \n",
       "1   36.0       June 18, 2013  \n",
       "2  116.0   December 14, 2015  \n",
       "3   34.0   February 12, 2014  \n",
       "4   27.0  September 26, 2016  "
      ]
     },
     "execution_count": 3,
     "metadata": {},
     "output_type": "execute_result"
    }
   ],
   "source": [
    "#Check the first few samples, shape, info of the data and try to familiarize yourself with different features\n",
    "#Let's check if the dataset is uploaded\n",
    "df.head()"
   ]
  },
  {
   "cell_type": "code",
   "execution_count": 4,
   "id": "58085f6a",
   "metadata": {},
   "outputs": [
    {
     "data": {
      "text/plain": [
       "(192544, 16)"
      ]
     },
     "execution_count": 4,
     "metadata": {},
     "output_type": "execute_result"
    }
   ],
   "source": [
    "df.shape\n",
    "#There are 192544 records and 16 columns in the dataset"
   ]
  },
  {
   "cell_type": "code",
   "execution_count": 5,
   "id": "d2402877",
   "metadata": {},
   "outputs": [
    {
     "data": {
      "text/plain": [
       "3080704"
      ]
     },
     "execution_count": 5,
     "metadata": {},
     "output_type": "execute_result"
    }
   ],
   "source": [
    "df.size"
   ]
  },
  {
   "cell_type": "code",
   "execution_count": 6,
   "id": "75202fff",
   "metadata": {},
   "outputs": [
    {
     "name": "stdout",
     "output_type": "stream",
     "text": [
      "<class 'pandas.core.frame.DataFrame'>\n",
      "RangeIndex: 192544 entries, 0 to 192543\n",
      "Data columns (total 16 columns):\n",
      " #   Column          Non-Null Count   Dtype  \n",
      "---  ------          --------------   -----  \n",
      " 0   Unnamed: 0      192544 non-null  int64  \n",
      " 1   fit             192544 non-null  object \n",
      " 2   user_id         192544 non-null  int64  \n",
      " 3   bust size       174133 non-null  object \n",
      " 4   item_id         192544 non-null  int64  \n",
      " 5   weight          162562 non-null  object \n",
      " 6   rating          192462 non-null  float64\n",
      " 7   rented for      192534 non-null  object \n",
      " 8   review_text     192482 non-null  object \n",
      " 9   body type       177907 non-null  object \n",
      " 10  review_summary  192199 non-null  object \n",
      " 11  category        192544 non-null  object \n",
      " 12  height          191867 non-null  object \n",
      " 13  size            192544 non-null  int64  \n",
      " 14  age             191584 non-null  float64\n",
      " 15  review_date     192544 non-null  object \n",
      "dtypes: float64(2), int64(4), object(10)\n",
      "memory usage: 23.5+ MB\n"
     ]
    }
   ],
   "source": [
    "df.info()\n",
    "#Most of the columns are of object datatype(10), 4 columns have int data type and 2 columns are of float datatype"
   ]
  },
  {
   "cell_type": "markdown",
   "id": "0f93fd75",
   "metadata": {},
   "source": [
    "# 2. Data cleansing and Exploratory data analysis:"
   ]
  },
  {
   "cell_type": "code",
   "execution_count": 7,
   "id": "f85e0f71",
   "metadata": {},
   "outputs": [
    {
     "data": {
      "text/plain": [
       "0         False\n",
       "1         False\n",
       "2         False\n",
       "3         False\n",
       "4         False\n",
       "          ...  \n",
       "192539    False\n",
       "192540    False\n",
       "192541    False\n",
       "192542    False\n",
       "192543    False\n",
       "Length: 192544, dtype: bool"
      ]
     },
     "execution_count": 7,
     "metadata": {},
     "output_type": "execute_result"
    }
   ],
   "source": [
    "#Check if there are any duplicate records in the dataset? If any drop them.\n",
    "df.duplicated()\n",
    "\n",
    "#There are no duplicate records in the dataset"
   ]
  },
  {
   "cell_type": "code",
   "execution_count": 8,
   "id": "8e2e1434",
   "metadata": {},
   "outputs": [
    {
     "data": {
      "text/html": [
       "<div>\n",
       "<style scoped>\n",
       "    .dataframe tbody tr th:only-of-type {\n",
       "        vertical-align: middle;\n",
       "    }\n",
       "\n",
       "    .dataframe tbody tr th {\n",
       "        vertical-align: top;\n",
       "    }\n",
       "\n",
       "    .dataframe thead th {\n",
       "        text-align: right;\n",
       "    }\n",
       "</style>\n",
       "<table border=\"1\" class=\"dataframe\">\n",
       "  <thead>\n",
       "    <tr style=\"text-align: right;\">\n",
       "      <th></th>\n",
       "      <th>Unnamed: 0</th>\n",
       "      <th>fit</th>\n",
       "      <th>bust size</th>\n",
       "      <th>weight</th>\n",
       "      <th>rating</th>\n",
       "      <th>rented for</th>\n",
       "      <th>body type</th>\n",
       "      <th>category</th>\n",
       "      <th>height</th>\n",
       "      <th>size</th>\n",
       "      <th>age</th>\n",
       "    </tr>\n",
       "  </thead>\n",
       "  <tbody>\n",
       "    <tr>\n",
       "      <th>0</th>\n",
       "      <td>0</td>\n",
       "      <td>fit</td>\n",
       "      <td>34d</td>\n",
       "      <td>137lbs</td>\n",
       "      <td>10.0</td>\n",
       "      <td>vacation</td>\n",
       "      <td>hourglass</td>\n",
       "      <td>romper</td>\n",
       "      <td>5' 8\"</td>\n",
       "      <td>14</td>\n",
       "      <td>28.0</td>\n",
       "    </tr>\n",
       "    <tr>\n",
       "      <th>1</th>\n",
       "      <td>1</td>\n",
       "      <td>fit</td>\n",
       "      <td>34b</td>\n",
       "      <td>132lbs</td>\n",
       "      <td>10.0</td>\n",
       "      <td>other</td>\n",
       "      <td>straight &amp; narrow</td>\n",
       "      <td>gown</td>\n",
       "      <td>5' 6\"</td>\n",
       "      <td>12</td>\n",
       "      <td>36.0</td>\n",
       "    </tr>\n",
       "    <tr>\n",
       "      <th>2</th>\n",
       "      <td>2</td>\n",
       "      <td>fit</td>\n",
       "      <td>NaN</td>\n",
       "      <td>NaN</td>\n",
       "      <td>10.0</td>\n",
       "      <td>party</td>\n",
       "      <td>NaN</td>\n",
       "      <td>sheath</td>\n",
       "      <td>5' 4\"</td>\n",
       "      <td>4</td>\n",
       "      <td>116.0</td>\n",
       "    </tr>\n",
       "    <tr>\n",
       "      <th>3</th>\n",
       "      <td>3</td>\n",
       "      <td>fit</td>\n",
       "      <td>34c</td>\n",
       "      <td>135lbs</td>\n",
       "      <td>8.0</td>\n",
       "      <td>formal affair</td>\n",
       "      <td>pear</td>\n",
       "      <td>dress</td>\n",
       "      <td>5' 5\"</td>\n",
       "      <td>8</td>\n",
       "      <td>34.0</td>\n",
       "    </tr>\n",
       "    <tr>\n",
       "      <th>4</th>\n",
       "      <td>4</td>\n",
       "      <td>fit</td>\n",
       "      <td>34b</td>\n",
       "      <td>145lbs</td>\n",
       "      <td>10.0</td>\n",
       "      <td>wedding</td>\n",
       "      <td>athletic</td>\n",
       "      <td>gown</td>\n",
       "      <td>5' 9\"</td>\n",
       "      <td>12</td>\n",
       "      <td>27.0</td>\n",
       "    </tr>\n",
       "  </tbody>\n",
       "</table>\n",
       "</div>"
      ],
      "text/plain": [
       "   Unnamed: 0  fit bust size  weight  rating     rented for  \\\n",
       "0           0  fit       34d  137lbs    10.0       vacation   \n",
       "1           1  fit       34b  132lbs    10.0          other   \n",
       "2           2  fit       NaN     NaN    10.0          party   \n",
       "3           3  fit       34c  135lbs     8.0  formal affair   \n",
       "4           4  fit       34b  145lbs    10.0        wedding   \n",
       "\n",
       "           body type category height  size    age  \n",
       "0          hourglass   romper  5' 8\"    14   28.0  \n",
       "1  straight & narrow     gown  5' 6\"    12   36.0  \n",
       "2                NaN   sheath  5' 4\"     4  116.0  \n",
       "3               pear    dress  5' 5\"     8   34.0  \n",
       "4           athletic     gown  5' 9\"    12   27.0  "
      ]
     },
     "execution_count": 8,
     "metadata": {},
     "output_type": "execute_result"
    }
   ],
   "source": [
    "#Drop the columns which you think redundant for the analysis.(Hint: drop columns like ‘id’, ‘review’)\n",
    "df.drop(['user_id','item_id','review_text','review_summary','review_date'],axis=1,inplace=True)\n",
    "df.head()"
   ]
  },
  {
   "cell_type": "code",
   "execution_count": 9,
   "id": "0e1bc8bf",
   "metadata": {},
   "outputs": [
    {
     "data": {
      "text/html": [
       "<div>\n",
       "<style scoped>\n",
       "    .dataframe tbody tr th:only-of-type {\n",
       "        vertical-align: middle;\n",
       "    }\n",
       "\n",
       "    .dataframe tbody tr th {\n",
       "        vertical-align: top;\n",
       "    }\n",
       "\n",
       "    .dataframe thead th {\n",
       "        text-align: right;\n",
       "    }\n",
       "</style>\n",
       "<table border=\"1\" class=\"dataframe\">\n",
       "  <thead>\n",
       "    <tr style=\"text-align: right;\">\n",
       "      <th></th>\n",
       "      <th>Unnamed: 0</th>\n",
       "      <th>fit</th>\n",
       "      <th>bust size</th>\n",
       "      <th>weight</th>\n",
       "      <th>rating</th>\n",
       "      <th>rented for</th>\n",
       "      <th>body type</th>\n",
       "      <th>category</th>\n",
       "      <th>height</th>\n",
       "      <th>size</th>\n",
       "      <th>age</th>\n",
       "    </tr>\n",
       "  </thead>\n",
       "  <tbody>\n",
       "    <tr>\n",
       "      <th>0</th>\n",
       "      <td>0</td>\n",
       "      <td>fit</td>\n",
       "      <td>34d</td>\n",
       "      <td>137.0</td>\n",
       "      <td>10.0</td>\n",
       "      <td>vacation</td>\n",
       "      <td>hourglass</td>\n",
       "      <td>romper</td>\n",
       "      <td>5' 8\"</td>\n",
       "      <td>14</td>\n",
       "      <td>28.0</td>\n",
       "    </tr>\n",
       "    <tr>\n",
       "      <th>1</th>\n",
       "      <td>1</td>\n",
       "      <td>fit</td>\n",
       "      <td>34b</td>\n",
       "      <td>132.0</td>\n",
       "      <td>10.0</td>\n",
       "      <td>other</td>\n",
       "      <td>straight &amp; narrow</td>\n",
       "      <td>gown</td>\n",
       "      <td>5' 6\"</td>\n",
       "      <td>12</td>\n",
       "      <td>36.0</td>\n",
       "    </tr>\n",
       "    <tr>\n",
       "      <th>2</th>\n",
       "      <td>2</td>\n",
       "      <td>fit</td>\n",
       "      <td>NaN</td>\n",
       "      <td>NaN</td>\n",
       "      <td>10.0</td>\n",
       "      <td>party</td>\n",
       "      <td>NaN</td>\n",
       "      <td>sheath</td>\n",
       "      <td>5' 4\"</td>\n",
       "      <td>4</td>\n",
       "      <td>116.0</td>\n",
       "    </tr>\n",
       "    <tr>\n",
       "      <th>3</th>\n",
       "      <td>3</td>\n",
       "      <td>fit</td>\n",
       "      <td>34c</td>\n",
       "      <td>135.0</td>\n",
       "      <td>8.0</td>\n",
       "      <td>formal affair</td>\n",
       "      <td>pear</td>\n",
       "      <td>dress</td>\n",
       "      <td>5' 5\"</td>\n",
       "      <td>8</td>\n",
       "      <td>34.0</td>\n",
       "    </tr>\n",
       "    <tr>\n",
       "      <th>4</th>\n",
       "      <td>4</td>\n",
       "      <td>fit</td>\n",
       "      <td>34b</td>\n",
       "      <td>145.0</td>\n",
       "      <td>10.0</td>\n",
       "      <td>wedding</td>\n",
       "      <td>athletic</td>\n",
       "      <td>gown</td>\n",
       "      <td>5' 9\"</td>\n",
       "      <td>12</td>\n",
       "      <td>27.0</td>\n",
       "    </tr>\n",
       "  </tbody>\n",
       "</table>\n",
       "</div>"
      ],
      "text/plain": [
       "   Unnamed: 0  fit bust size  weight  rating     rented for  \\\n",
       "0           0  fit       34d   137.0    10.0       vacation   \n",
       "1           1  fit       34b   132.0    10.0          other   \n",
       "2           2  fit       NaN     NaN    10.0          party   \n",
       "3           3  fit       34c   135.0     8.0  formal affair   \n",
       "4           4  fit       34b   145.0    10.0        wedding   \n",
       "\n",
       "           body type category height  size    age  \n",
       "0          hourglass   romper  5' 8\"    14   28.0  \n",
       "1  straight & narrow     gown  5' 6\"    12   36.0  \n",
       "2                NaN   sheath  5' 4\"     4  116.0  \n",
       "3               pear    dress  5' 5\"     8   34.0  \n",
       "4           athletic     gown  5' 9\"    12   27.0  "
      ]
     },
     "execution_count": 9,
     "metadata": {},
     "output_type": "execute_result"
    }
   ],
   "source": [
    "#Check the column 'weight', Is there any presence of string data? If yes, remove the string data and convert to float. \n",
    "#(Hint: 'weight' has the suffix as lbs)\n",
    "df['weight']=df['weight'].str.replace('lbs','').astype(float)\n",
    "df.head()"
   ]
  },
  {
   "cell_type": "code",
   "execution_count": 10,
   "id": "9de09d95",
   "metadata": {},
   "outputs": [
    {
     "data": {
      "text/plain": [
       "array(['vacation', 'other', 'party', 'formal affair', 'wedding', 'date',\n",
       "       'everyday', 'work', nan, 'party: cocktail'], dtype=object)"
      ]
     },
     "execution_count": 10,
     "metadata": {},
     "output_type": "execute_result"
    }
   ],
   "source": [
    "#Check the unique categories for the column 'rented for' and group 'party: cocktail' category with 'party'\n",
    "df['rented for'].unique()\n",
    "\n",
    "#There are 10 unique categories in the 'rented for' column"
   ]
  },
  {
   "cell_type": "code",
   "execution_count": 11,
   "id": "6e62431c",
   "metadata": {},
   "outputs": [
    {
     "data": {
      "text/plain": [
       "wedding          57784\n",
       "formal affair    40408\n",
       "party            35627\n",
       "everyday         16822\n",
       "other            15388\n",
       "work             15042\n",
       "date              7388\n",
       "vacation          4075\n",
       "Name: rented for, dtype: int64"
      ]
     },
     "execution_count": 11,
     "metadata": {},
     "output_type": "execute_result"
    }
   ],
   "source": [
    "#Grouping the columns party: cocktail' category with 'party'\n",
    "\n",
    "df['rented for']=df['rented for'].replace({'party: cocktail':'party'})\n",
    "df['rented for'].value_counts()"
   ]
  },
  {
   "cell_type": "code",
   "execution_count": 12,
   "id": "74c42fa8",
   "metadata": {},
   "outputs": [
    {
     "data": {
      "text/plain": [
       "0         68.0\n",
       "1         66.0\n",
       "2         64.0\n",
       "3         65.0\n",
       "4         69.0\n",
       "          ... \n",
       "192539    69.0\n",
       "192540    61.0\n",
       "192541    68.0\n",
       "192542    66.0\n",
       "192543    66.0\n",
       "Name: height, Length: 192544, dtype: float64"
      ]
     },
     "execution_count": 12,
     "metadata": {},
     "output_type": "execute_result"
    }
   ],
   "source": [
    "#The column 'height' is in feet with a quotation mark,Convert to inches with float datatype.\n",
    "df['height']=df['height'].str.replace('\"','')\n",
    "df['height']=df['height'].str.replace(\"'\",'')\n",
    "df['height']=df['height'].str[:1].astype(float)*12 + df['height'].str[1:].astype(float)\n",
    "\n",
    "df['height']"
   ]
  },
  {
   "cell_type": "code",
   "execution_count": 13,
   "id": "145d851d",
   "metadata": {
    "scrolled": true
   },
   "outputs": [
    {
     "data": {
      "text/html": [
       "<div>\n",
       "<style scoped>\n",
       "    .dataframe tbody tr th:only-of-type {\n",
       "        vertical-align: middle;\n",
       "    }\n",
       "\n",
       "    .dataframe tbody tr th {\n",
       "        vertical-align: top;\n",
       "    }\n",
       "\n",
       "    .dataframe thead th {\n",
       "        text-align: right;\n",
       "    }\n",
       "</style>\n",
       "<table border=\"1\" class=\"dataframe\">\n",
       "  <thead>\n",
       "    <tr style=\"text-align: right;\">\n",
       "      <th></th>\n",
       "      <th>Unnamed: 0</th>\n",
       "      <th>fit</th>\n",
       "      <th>bust size</th>\n",
       "      <th>weight</th>\n",
       "      <th>rating</th>\n",
       "      <th>rented for</th>\n",
       "      <th>body type</th>\n",
       "      <th>category</th>\n",
       "      <th>height</th>\n",
       "      <th>size</th>\n",
       "      <th>age</th>\n",
       "    </tr>\n",
       "  </thead>\n",
       "  <tbody>\n",
       "    <tr>\n",
       "      <th>0</th>\n",
       "      <td>False</td>\n",
       "      <td>False</td>\n",
       "      <td>False</td>\n",
       "      <td>False</td>\n",
       "      <td>False</td>\n",
       "      <td>False</td>\n",
       "      <td>False</td>\n",
       "      <td>False</td>\n",
       "      <td>False</td>\n",
       "      <td>False</td>\n",
       "      <td>False</td>\n",
       "    </tr>\n",
       "    <tr>\n",
       "      <th>1</th>\n",
       "      <td>False</td>\n",
       "      <td>False</td>\n",
       "      <td>False</td>\n",
       "      <td>False</td>\n",
       "      <td>False</td>\n",
       "      <td>False</td>\n",
       "      <td>False</td>\n",
       "      <td>False</td>\n",
       "      <td>False</td>\n",
       "      <td>False</td>\n",
       "      <td>False</td>\n",
       "    </tr>\n",
       "    <tr>\n",
       "      <th>2</th>\n",
       "      <td>False</td>\n",
       "      <td>False</td>\n",
       "      <td>True</td>\n",
       "      <td>True</td>\n",
       "      <td>False</td>\n",
       "      <td>False</td>\n",
       "      <td>True</td>\n",
       "      <td>False</td>\n",
       "      <td>False</td>\n",
       "      <td>False</td>\n",
       "      <td>False</td>\n",
       "    </tr>\n",
       "    <tr>\n",
       "      <th>3</th>\n",
       "      <td>False</td>\n",
       "      <td>False</td>\n",
       "      <td>False</td>\n",
       "      <td>False</td>\n",
       "      <td>False</td>\n",
       "      <td>False</td>\n",
       "      <td>False</td>\n",
       "      <td>False</td>\n",
       "      <td>False</td>\n",
       "      <td>False</td>\n",
       "      <td>False</td>\n",
       "    </tr>\n",
       "    <tr>\n",
       "      <th>4</th>\n",
       "      <td>False</td>\n",
       "      <td>False</td>\n",
       "      <td>False</td>\n",
       "      <td>False</td>\n",
       "      <td>False</td>\n",
       "      <td>False</td>\n",
       "      <td>False</td>\n",
       "      <td>False</td>\n",
       "      <td>False</td>\n",
       "      <td>False</td>\n",
       "      <td>False</td>\n",
       "    </tr>\n",
       "    <tr>\n",
       "      <th>...</th>\n",
       "      <td>...</td>\n",
       "      <td>...</td>\n",
       "      <td>...</td>\n",
       "      <td>...</td>\n",
       "      <td>...</td>\n",
       "      <td>...</td>\n",
       "      <td>...</td>\n",
       "      <td>...</td>\n",
       "      <td>...</td>\n",
       "      <td>...</td>\n",
       "      <td>...</td>\n",
       "    </tr>\n",
       "    <tr>\n",
       "      <th>192539</th>\n",
       "      <td>False</td>\n",
       "      <td>False</td>\n",
       "      <td>False</td>\n",
       "      <td>False</td>\n",
       "      <td>False</td>\n",
       "      <td>False</td>\n",
       "      <td>False</td>\n",
       "      <td>False</td>\n",
       "      <td>False</td>\n",
       "      <td>False</td>\n",
       "      <td>False</td>\n",
       "    </tr>\n",
       "    <tr>\n",
       "      <th>192540</th>\n",
       "      <td>False</td>\n",
       "      <td>False</td>\n",
       "      <td>False</td>\n",
       "      <td>False</td>\n",
       "      <td>False</td>\n",
       "      <td>False</td>\n",
       "      <td>False</td>\n",
       "      <td>False</td>\n",
       "      <td>False</td>\n",
       "      <td>False</td>\n",
       "      <td>False</td>\n",
       "    </tr>\n",
       "    <tr>\n",
       "      <th>192541</th>\n",
       "      <td>False</td>\n",
       "      <td>False</td>\n",
       "      <td>False</td>\n",
       "      <td>False</td>\n",
       "      <td>False</td>\n",
       "      <td>False</td>\n",
       "      <td>False</td>\n",
       "      <td>False</td>\n",
       "      <td>False</td>\n",
       "      <td>False</td>\n",
       "      <td>False</td>\n",
       "    </tr>\n",
       "    <tr>\n",
       "      <th>192542</th>\n",
       "      <td>False</td>\n",
       "      <td>False</td>\n",
       "      <td>False</td>\n",
       "      <td>False</td>\n",
       "      <td>False</td>\n",
       "      <td>False</td>\n",
       "      <td>False</td>\n",
       "      <td>False</td>\n",
       "      <td>False</td>\n",
       "      <td>False</td>\n",
       "      <td>False</td>\n",
       "    </tr>\n",
       "    <tr>\n",
       "      <th>192543</th>\n",
       "      <td>False</td>\n",
       "      <td>False</td>\n",
       "      <td>False</td>\n",
       "      <td>False</td>\n",
       "      <td>False</td>\n",
       "      <td>False</td>\n",
       "      <td>False</td>\n",
       "      <td>False</td>\n",
       "      <td>False</td>\n",
       "      <td>False</td>\n",
       "      <td>False</td>\n",
       "    </tr>\n",
       "  </tbody>\n",
       "</table>\n",
       "<p>192544 rows × 11 columns</p>\n",
       "</div>"
      ],
      "text/plain": [
       "        Unnamed: 0    fit  bust size  weight  rating  rented for  body type  \\\n",
       "0            False  False      False   False   False       False      False   \n",
       "1            False  False      False   False   False       False      False   \n",
       "2            False  False       True    True   False       False       True   \n",
       "3            False  False      False   False   False       False      False   \n",
       "4            False  False      False   False   False       False      False   \n",
       "...            ...    ...        ...     ...     ...         ...        ...   \n",
       "192539       False  False      False   False   False       False      False   \n",
       "192540       False  False      False   False   False       False      False   \n",
       "192541       False  False      False   False   False       False      False   \n",
       "192542       False  False      False   False   False       False      False   \n",
       "192543       False  False      False   False   False       False      False   \n",
       "\n",
       "        category  height   size    age  \n",
       "0          False   False  False  False  \n",
       "1          False   False  False  False  \n",
       "2          False   False  False  False  \n",
       "3          False   False  False  False  \n",
       "4          False   False  False  False  \n",
       "...          ...     ...    ...    ...  \n",
       "192539     False   False  False  False  \n",
       "192540     False   False  False  False  \n",
       "192541     False   False  False  False  \n",
       "192542     False   False  False  False  \n",
       "192543     False   False  False  False  \n",
       "\n",
       "[192544 rows x 11 columns]"
      ]
     },
     "execution_count": 13,
     "metadata": {},
     "output_type": "execute_result"
    }
   ],
   "source": [
    "#Check for missing values in each column of the dataset? If it exists, impute them with appropriate methods.\n",
    "df.isnull()\n",
    "\n",
    "# There are missing values in these columns - bust size,weight,body type,age"
   ]
  },
  {
   "cell_type": "code",
   "execution_count": 14,
   "id": "a0373fff",
   "metadata": {},
   "outputs": [
    {
     "data": {
      "text/html": [
       "<div>\n",
       "<style scoped>\n",
       "    .dataframe tbody tr th:only-of-type {\n",
       "        vertical-align: middle;\n",
       "    }\n",
       "\n",
       "    .dataframe tbody tr th {\n",
       "        vertical-align: top;\n",
       "    }\n",
       "\n",
       "    .dataframe thead th {\n",
       "        text-align: right;\n",
       "    }\n",
       "</style>\n",
       "<table border=\"1\" class=\"dataframe\">\n",
       "  <thead>\n",
       "    <tr style=\"text-align: right;\">\n",
       "      <th></th>\n",
       "      <th>Unnamed: 0</th>\n",
       "      <th>fit</th>\n",
       "      <th>bust size</th>\n",
       "      <th>weight</th>\n",
       "      <th>rating</th>\n",
       "      <th>rented for</th>\n",
       "      <th>body type</th>\n",
       "      <th>category</th>\n",
       "      <th>height</th>\n",
       "      <th>size</th>\n",
       "      <th>age</th>\n",
       "    </tr>\n",
       "  </thead>\n",
       "  <tbody>\n",
       "    <tr>\n",
       "      <th>0</th>\n",
       "      <td>0</td>\n",
       "      <td>fit</td>\n",
       "      <td>34d</td>\n",
       "      <td>137.0</td>\n",
       "      <td>10.0</td>\n",
       "      <td>vacation</td>\n",
       "      <td>hourglass</td>\n",
       "      <td>romper</td>\n",
       "      <td>68.0</td>\n",
       "      <td>14</td>\n",
       "      <td>28.0</td>\n",
       "    </tr>\n",
       "    <tr>\n",
       "      <th>1</th>\n",
       "      <td>1</td>\n",
       "      <td>fit</td>\n",
       "      <td>34b</td>\n",
       "      <td>132.0</td>\n",
       "      <td>10.0</td>\n",
       "      <td>other</td>\n",
       "      <td>straight &amp; narrow</td>\n",
       "      <td>gown</td>\n",
       "      <td>66.0</td>\n",
       "      <td>12</td>\n",
       "      <td>36.0</td>\n",
       "    </tr>\n",
       "    <tr>\n",
       "      <th>3</th>\n",
       "      <td>3</td>\n",
       "      <td>fit</td>\n",
       "      <td>34c</td>\n",
       "      <td>135.0</td>\n",
       "      <td>8.0</td>\n",
       "      <td>formal affair</td>\n",
       "      <td>pear</td>\n",
       "      <td>dress</td>\n",
       "      <td>65.0</td>\n",
       "      <td>8</td>\n",
       "      <td>34.0</td>\n",
       "    </tr>\n",
       "    <tr>\n",
       "      <th>4</th>\n",
       "      <td>4</td>\n",
       "      <td>fit</td>\n",
       "      <td>34b</td>\n",
       "      <td>145.0</td>\n",
       "      <td>10.0</td>\n",
       "      <td>wedding</td>\n",
       "      <td>athletic</td>\n",
       "      <td>gown</td>\n",
       "      <td>69.0</td>\n",
       "      <td>12</td>\n",
       "      <td>27.0</td>\n",
       "    </tr>\n",
       "    <tr>\n",
       "      <th>5</th>\n",
       "      <td>5</td>\n",
       "      <td>fit</td>\n",
       "      <td>32b</td>\n",
       "      <td>138.0</td>\n",
       "      <td>8.0</td>\n",
       "      <td>date</td>\n",
       "      <td>athletic</td>\n",
       "      <td>dress</td>\n",
       "      <td>68.0</td>\n",
       "      <td>8</td>\n",
       "      <td>45.0</td>\n",
       "    </tr>\n",
       "  </tbody>\n",
       "</table>\n",
       "</div>"
      ],
      "text/plain": [
       "   Unnamed: 0  fit bust size  weight  rating     rented for  \\\n",
       "0           0  fit       34d   137.0    10.0       vacation   \n",
       "1           1  fit       34b   132.0    10.0          other   \n",
       "3           3  fit       34c   135.0     8.0  formal affair   \n",
       "4           4  fit       34b   145.0    10.0        wedding   \n",
       "5           5  fit       32b   138.0     8.0           date   \n",
       "\n",
       "           body type category  height  size   age  \n",
       "0          hourglass   romper    68.0    14  28.0  \n",
       "1  straight & narrow     gown    66.0    12  36.0  \n",
       "3               pear    dress    65.0     8  34.0  \n",
       "4           athletic     gown    69.0    12  27.0  \n",
       "5           athletic    dress    68.0     8  45.0  "
      ]
     },
     "execution_count": 14,
     "metadata": {},
     "output_type": "execute_result"
    }
   ],
   "source": [
    "#Dropping missing values ftom the columns ('bust size','body type')\n",
    "df=df.dropna( how='any',subset=['bust size','body type'])\n",
    "#Replacing the missing values with mean\n",
    "df['weight']=df['weight'].fillna(df['weight'].mean())\n",
    "df['age']=df['age'].fillna(df['age'].mean())\n",
    "\n",
    "df.head()\n",
    "\n"
   ]
  },
  {
   "cell_type": "code",
   "execution_count": 15,
   "id": "52b06ad8",
   "metadata": {},
   "outputs": [
    {
     "data": {
      "text/html": [
       "<div>\n",
       "<style scoped>\n",
       "    .dataframe tbody tr th:only-of-type {\n",
       "        vertical-align: middle;\n",
       "    }\n",
       "\n",
       "    .dataframe tbody tr th {\n",
       "        vertical-align: top;\n",
       "    }\n",
       "\n",
       "    .dataframe thead th {\n",
       "        text-align: right;\n",
       "    }\n",
       "</style>\n",
       "<table border=\"1\" class=\"dataframe\">\n",
       "  <thead>\n",
       "    <tr style=\"text-align: right;\">\n",
       "      <th></th>\n",
       "      <th>fit</th>\n",
       "      <th>bust size</th>\n",
       "      <th>rented for</th>\n",
       "      <th>body type</th>\n",
       "      <th>category</th>\n",
       "    </tr>\n",
       "  </thead>\n",
       "  <tbody>\n",
       "    <tr>\n",
       "      <th>count</th>\n",
       "      <td>165575</td>\n",
       "      <td>165575</td>\n",
       "      <td>165568</td>\n",
       "      <td>165575</td>\n",
       "      <td>165575</td>\n",
       "    </tr>\n",
       "    <tr>\n",
       "      <th>unique</th>\n",
       "      <td>3</td>\n",
       "      <td>104</td>\n",
       "      <td>8</td>\n",
       "      <td>7</td>\n",
       "      <td>68</td>\n",
       "    </tr>\n",
       "    <tr>\n",
       "      <th>top</th>\n",
       "      <td>fit</td>\n",
       "      <td>34b</td>\n",
       "      <td>wedding</td>\n",
       "      <td>hourglass</td>\n",
       "      <td>dress</td>\n",
       "    </tr>\n",
       "    <tr>\n",
       "      <th>freq</th>\n",
       "      <td>121977</td>\n",
       "      <td>25949</td>\n",
       "      <td>48794</td>\n",
       "      <td>51495</td>\n",
       "      <td>79847</td>\n",
       "    </tr>\n",
       "  </tbody>\n",
       "</table>\n",
       "</div>"
      ],
      "text/plain": [
       "           fit bust size rented for  body type category\n",
       "count   165575    165575     165568     165575   165575\n",
       "unique       3       104          8          7       68\n",
       "top        fit       34b    wedding  hourglass    dress\n",
       "freq    121977     25949      48794      51495    79847"
      ]
     },
     "execution_count": 15,
     "metadata": {},
     "output_type": "execute_result"
    }
   ],
   "source": [
    "#Check the statistical summary for the numerical and categorical columns and write your findings.\n",
    "df.describe()\n",
    "\n",
    "##The above function gives the insights for all numerical records present in the dataframe,\n",
    "#eg- Rating \n",
    "#count-There are 165507 records in total\n",
    "#mean-Average rating is 9\n",
    "#min-The minimum Monthly charges is 2\n",
    "#max-The maximum Monthly charges is 10\n",
    "#Standard deviation-1\n",
    "#25%,50%,75% represents the 1st,2nd and 3rd quartile respectively\n",
    "\n",
    "df.describe(include='object')\n",
    "#In the categorical summary ,\n",
    "#eg- bust size-\n",
    "#there are 108 unique categories in bust size\n",
    "#top category in bust size is 34b\n",
    "#frequency of bust size is 25949"
   ]
  },
  {
   "cell_type": "code",
   "execution_count": 16,
   "id": "9b8ae1cc",
   "metadata": {},
   "outputs": [
    {
     "data": {
      "text/plain": [
       "<AxesSubplot:xlabel='age'>"
      ]
     },
     "execution_count": 16,
     "metadata": {},
     "output_type": "execute_result"
    },
    {
     "data": {
      "image/png": "[encoded data removed]",
      "text/plain": [
       "<Figure size 432x288 with 1 Axes>"
      ]
     },
     "metadata": {
      "needs_background": "light"
     },
     "output_type": "display_data"
    }
   ],
   "source": [
    "#Is there outliers present in the column age? If yes treat them with appropriate method\n",
    "sns.boxplot(df['age'])\n",
    "\n",
    "#This boxplot shows the presence of outliers above 50 years of age"
   ]
  },
  {
   "cell_type": "code",
   "execution_count": 17,
   "id": "f787cdb1",
   "metadata": {},
   "outputs": [],
   "source": [
    "#Removing outliers by using drop\n",
    "df.drop(df[df['age']>50].index,inplace=True)\n"
   ]
  },
  {
   "cell_type": "code",
   "execution_count": 18,
   "id": "3e848a99",
   "metadata": {},
   "outputs": [
    {
     "data": {
      "text/plain": [
       "<AxesSubplot:xlabel='rented for', ylabel='count'>"
      ]
     },
     "execution_count": 18,
     "metadata": {},
     "output_type": "execute_result"
    },
    {
     "data": {
      "image/png": "[encoded data removed]",
      "text/plain": [
       "<Figure size 720x576 with 1 Axes>"
      ]
     },
     "metadata": {},
     "output_type": "display_data"
    }
   ],
   "source": [
    "#Check the distribution of the different categories in the column 'rented for' using appropriate plot.\n",
    "sns.set(rc={\"figure.figsize\":(10, 8)})\n",
    "sns.countplot( x ='rented for',data=df)\n",
    "\n",
    "#The countplot shows number of people who have rented clothing for each of the categories(8 categories)\n",
    "#Maximum number of people have rented for wedding,few people have rented for vacation"
   ]
  },
  {
   "cell_type": "markdown",
   "id": "6ac2918d",
   "metadata": {},
   "source": [
    "# 3. Data Preparation for model building:"
   ]
  },
  {
   "cell_type": "code",
   "execution_count": 19,
   "id": "ca9b5fab",
   "metadata": {},
   "outputs": [],
   "source": [
    "#Encode the categorical variables in the dataset.\n",
    "df_categorical=df[['fit','bust size','rented for','body type','category','height']]\n",
    "\n",
    "#Coverting all categorical variables into numerical type\n",
    "from sklearn.preprocessing import LabelEncoder\n",
    "le = LabelEncoder()\n",
    "for x in df_categorical:\n",
    "    df[x] = le.fit_transform(df[x].astype(str))\n",
    "    \n"
   ]
  },
  {
   "cell_type": "code",
   "execution_count": 20,
   "id": "df7ede6f",
   "metadata": {},
   "outputs": [],
   "source": [
    "#Standardize the data, so that the values are within a particular range using standard scaler\n",
    "from sklearn.preprocessing import StandardScaler\n",
    "\n",
    "ss=StandardScaler()\n",
    "df.iloc[:,:] = ss.fit_transform(df.iloc[:,:])\n"
   ]
  },
  {
   "cell_type": "markdown",
   "id": "1cff8260",
   "metadata": {},
   "source": [
    "# 4. Principal Component Analysis and Clustering:"
   ]
  },
  {
   "cell_type": "code",
   "execution_count": 21,
   "id": "ab5d886b",
   "metadata": {},
   "outputs": [],
   "source": [
    "#Apply PCA on the above dataset and determine the number of PCA components to be used so that 90-95% of the variance in data\n",
    "#is explained by the same.\n",
    "\n",
    "df = df.replace([np.inf, -np.inf], np.nan)\n",
    "df = df.dropna()\n",
    "df = df.reset_index()\n",
    "pca_df=df.copy()\n",
    "\n",
    "\n",
    "X = pca_df.drop('rented for',axis=1)\n",
    "y = pca_df['rented for']\n",
    "\n",
    "### split the datatset into train and test\n",
    "X_train, X_test, y_train, y_test = train_test_split(X, y, test_size = 0.3, random_state = 42)\n",
    "\n",
    "## scale the independent features using standard scalar\n",
    "\n",
    "X_train = ss.fit_transform(X_train)\n",
    "X_test = ss.transform(X_test)\n"
   ]
  },
  {
   "cell_type": "code",
   "execution_count": 22,
   "id": "2a00b3a9",
   "metadata": {},
   "outputs": [
    {
     "name": "stdout",
     "output_type": "stream",
     "text": [
      "Covariance matrix \n",
      " [[ 1.00000905e+00  1.00000905e+00 -2.03262421e-03  7.47200454e-04\n",
      "   3.01991879e-03 -7.72701158e-03 -2.79324133e-03 -2.72431201e-03\n",
      "   2.01339274e-03  3.49878362e-03 -6.73511553e-03]\n",
      " [ 1.00000905e+00  1.00000905e+00 -2.03262421e-03  7.47200454e-04\n",
      "   3.01991879e-03 -7.72701158e-03 -2.79324133e-03 -2.72431201e-03\n",
      "   2.01339274e-03  3.49878362e-03 -6.73511553e-03]\n",
      " [-2.03262421e-03 -2.03262421e-03  1.00000905e+00  6.41495281e-03\n",
      "   1.22437050e-02 -2.45459546e-01 -8.01557976e-03 -1.57514705e-03\n",
      "  -1.60739647e-03  6.45546688e-02 -4.49298053e-04]\n",
      " [ 7.47200454e-04  7.47200454e-04  6.41495281e-03  1.00000905e+00\n",
      "   6.13231965e-01 -2.24199593e-02 -2.29639618e-01 -1.31466826e-02\n",
      "   1.55460517e-01  6.84668384e-01  1.59573111e-01]\n",
      " [ 3.01991879e-03  3.01991879e-03  1.22437050e-02  6.13231965e-01\n",
      "   1.00000905e+00 -2.29492018e-02 -2.46454548e-01 -1.82600805e-02\n",
      "   3.59999868e-01  7.55494528e-01  6.55536253e-02]\n",
      " [-7.72701158e-03 -7.72701158e-03 -2.45459546e-01 -2.24199593e-02\n",
      "  -2.29492018e-02  1.00000905e+00  5.15282426e-03 -2.41879218e-02\n",
      "   1.41411749e-03 -3.88758011e-02 -4.67090928e-02]\n",
      " [-2.79324133e-03 -2.79324133e-03 -8.01557976e-03 -2.29639618e-01\n",
      "  -2.46454548e-01  5.15282426e-03  1.00000905e+00 -3.96068249e-03\n",
      "  -1.40156891e-01 -2.25131093e-01 -5.10762558e-02]\n",
      " [-2.72431201e-03 -2.72431201e-03 -1.57514705e-03 -1.31466826e-02\n",
      "  -1.82600805e-02 -2.41879218e-02 -3.96068249e-03  1.00000905e+00\n",
      "  -2.45925435e-03 -1.07404668e-02  2.59382865e-02]\n",
      " [ 2.01339274e-03  2.01339274e-03 -1.60739647e-03  1.55460517e-01\n",
      "   3.59999868e-01  1.41411749e-03 -1.40156891e-01 -2.45925435e-03\n",
      "   1.00000905e+00  2.32721170e-01 -6.49712394e-03]\n",
      " [ 3.49878362e-03  3.49878362e-03  6.45546688e-02  6.84668384e-01\n",
      "   7.55494528e-01 -3.88758011e-02 -2.25131093e-01 -1.07404668e-02\n",
      "   2.32721170e-01  1.00000905e+00  1.32482323e-01]\n",
      " [-6.73511553e-03 -6.73511553e-03 -4.49298053e-04  1.59573111e-01\n",
      "   6.55536253e-02 -4.67090928e-02 -5.10762558e-02  2.59382865e-02\n",
      "  -6.49712394e-03  1.32482323e-01  1.00000905e+00]]\n",
      "Eigen vectors: \n",
      " [[-7.17975049e-03 -7.06990394e-01 -7.07106781e-01  6.95153974e-04\n",
      "   6.84071199e-04 -3.45919174e-03  6.42330573e-03  7.44418663e-03\n",
      "  -8.61235145e-04  1.60488884e-03 -3.53949120e-04]\n",
      " [-7.17975049e-03 -7.06990394e-01  7.07106781e-01  6.95153974e-04\n",
      "   6.84071199e-04 -3.45919174e-03  6.42330573e-03  7.44418663e-03\n",
      "  -8.61235145e-04  1.60488884e-03 -3.53949120e-04]\n",
      " [-3.39333578e-02  9.17959260e-04  6.34885633e-18  5.19048876e-02\n",
      "   3.09468164e-02  6.88171576e-01  6.85596622e-01 -2.05068423e-01\n",
      "  -7.04779129e-03 -9.72375351e-02 -3.89203634e-03]\n",
      " [-5.04544555e-01  6.96906370e-03  1.10832915e-16  1.68580079e-01\n",
      "   7.78985999e-01 -1.77563908e-02 -4.43209417e-02  1.36705533e-01\n",
      "  -1.25484223e-01 -1.95827251e-01 -1.87310312e-01]\n",
      " [-5.42759909e-01  4.66405185e-03  1.51863125e-16  6.37778392e-01\n",
      "  -5.08203936e-01 -4.89136665e-02 -3.10884527e-02 -9.57249363e-02\n",
      "   2.88107234e-02  9.14299146e-03 -1.64077592e-01]\n",
      " [ 3.64975193e-02  9.63034631e-03 -2.39643375e-17  5.58100743e-03\n",
      "  -3.06439095e-03 -7.00996748e-01  7.00456068e-01  3.88528830e-02\n",
      "  -2.13489737e-02 -1.11581269e-01 -4.56486602e-02]\n",
      " [ 2.54100783e-01 -5.90423222e-04 -4.60088671e-17  2.18579613e-02\n",
      "   2.14269356e-02  4.18220483e-02  2.80407756e-02  3.58730442e-02\n",
      "  -1.57582416e-01  3.93944994e-01 -8.66399699e-01]\n",
      " [ 1.10326989e-02  3.67964407e-03 -3.52586852e-18  6.36590552e-03\n",
      "   7.35702529e-04  7.97311538e-02  5.24283300e-02  4.63701927e-01\n",
      "   8.57823449e-01 -9.94183696e-02 -1.73070299e-01]\n",
      " [-2.65779366e-01  1.05975993e-03  5.99986906e-17 -1.02701421e-01\n",
      "   2.07467915e-01 -9.97411158e-02  7.85126298e-02 -3.91512126e-01\n",
      "   3.43279523e-01  7.45141379e-01  1.82479901e-01]\n",
      " [-5.45801393e-01  4.86263203e-03 -1.17471409e-16 -7.41304407e-01\n",
      "  -2.90163527e-01  1.86632762e-02  1.53342244e-02  3.29170292e-02\n",
      "  -6.57431179e-02 -1.13076880e-01 -2.22653480e-01]\n",
      " [-1.22609433e-01  1.12517917e-02  4.58936666e-17  3.86671350e-02\n",
      "  -7.90194751e-02  1.17851279e-01  1.62390968e-01  7.46862283e-01\n",
      "  -3.16323320e-01  4.54487292e-01  2.69107670e-01]]\n",
      "\n",
      "\n",
      "Eigen values: \n",
      " [2.63902661e+00 2.00019067e+00 5.28308973e-16 2.22149420e-01\n",
      " 3.64142808e-01 1.25026492e+00 7.48926562e-01 1.04127033e+00\n",
      " 9.92941102e-01 8.50527606e-01 8.90659567e-01]\n"
     ]
    }
   ],
   "source": [
    "# Calculating covarinace matrix along with eigen values and eigen vectors\n",
    "\n",
    "cov_matrix = np.cov(X_train.T)\n",
    "print('Covariance matrix','\\n',cov_matrix)\n",
    "eig_vals, eig_vecs = np.linalg.eig(cov_matrix)\n",
    "print('Eigen vectors:','\\n',eig_vecs)\n",
    "print('\\n')\n",
    "print('Eigen values:','\\n',eig_vals)"
   ]
  },
  {
   "cell_type": "code",
   "execution_count": 23,
   "id": "2fdd62a7",
   "metadata": {},
   "outputs": [
    {
     "name": "stdout",
     "output_type": "stream",
     "text": [
      "Variance Explained:  [23.990933791591377, 18.18338688802712, 11.36594181863274, 9.466008188612408, 9.026655567677775, 8.096831852648585, 7.731999145019337, 6.808361653207726, 3.3103591946978503, 2.0195218998850724, 4.802765361851325e-15]\n",
      "Cummulative Variance Explained:  [ 23.99093379  42.17432068  53.5402625   63.00627069  72.03292625\n",
      "  80.12975811  87.86175725  94.67011891  97.9804781  100.\n",
      " 100.        ]\n"
     ]
    }
   ],
   "source": [
    "#Calculating the variance and cumulative variance\n",
    "total = sum(eig_vals)\n",
    "var_exp = [ (i/total)*100  for i in sorted(eig_vals,reverse=True)]\n",
    "cum_var_exp = np.cumsum(var_exp)\n",
    "print('Variance Explained: ',var_exp)\n",
    "print('Cummulative Variance Explained: ',cum_var_exp)"
   ]
  },
  {
   "cell_type": "code",
   "execution_count": 24,
   "id": "074be94e",
   "metadata": {},
   "outputs": [
    {
     "data": {
      "image/png": "[encoded data removed]",
      "text/plain": [
       "<Figure size 720x576 with 1 Axes>"
      ]
     },
     "metadata": {},
     "output_type": "display_data"
    }
   ],
   "source": [
    "#Plotting bar graph Individual explained variance against Cumulative explained variance.\n",
    "import matplotlib.pyplot as plt\n",
    "cum_sum_exp = np.cumsum(var_exp)\n",
    "plt.bar(range(0,len(var_exp)), var_exp, alpha=0.5, align='center', label='Individual explained variance')\n",
    "plt.step(range(0,len(cum_sum_exp)), cum_sum_exp, where='mid',label='Cumulative explained variance')\n",
    "plt.ylabel('Explained variance ratio')\n",
    "plt.xlabel('Principal component index')\n",
    "plt.legend(loc='best')\n",
    "plt.tight_layout()\n",
    "plt.show()"
   ]
  },
  {
   "cell_type": "code",
   "execution_count": 25,
   "id": "27720a4c",
   "metadata": {},
   "outputs": [
    {
     "data": {
      "text/plain": [
       "PCA(n_components=7)"
      ]
     },
     "execution_count": 25,
     "metadata": {},
     "output_type": "execute_result"
    }
   ],
   "source": [
    "#First 7 principal components explain 99% of the variance in the data. \n",
    "# so, we can choose the optimal number of principal components as 7.\n",
    "from sklearn.decomposition import PCA\n",
    "pca=PCA(n_components = 7)\n",
    "pca.fit(pca_df)"
   ]
  },
  {
   "cell_type": "code",
   "execution_count": 26,
   "id": "aee6c3eb",
   "metadata": {},
   "outputs": [
    {
     "data": {
      "text/html": [
       "<div>\n",
       "<style scoped>\n",
       "    .dataframe tbody tr th:only-of-type {\n",
       "        vertical-align: middle;\n",
       "    }\n",
       "\n",
       "    .dataframe tbody tr th {\n",
       "        vertical-align: top;\n",
       "    }\n",
       "\n",
       "    .dataframe thead th {\n",
       "        text-align: right;\n",
       "    }\n",
       "</style>\n",
       "<table border=\"1\" class=\"dataframe\">\n",
       "  <thead>\n",
       "    <tr style=\"text-align: right;\">\n",
       "      <th></th>\n",
       "      <th>PC1</th>\n",
       "      <th>PC2</th>\n",
       "      <th>PC3</th>\n",
       "      <th>PC4</th>\n",
       "      <th>PC5</th>\n",
       "      <th>PC6</th>\n",
       "      <th>PC7</th>\n",
       "    </tr>\n",
       "  </thead>\n",
       "  <tbody>\n",
       "    <tr>\n",
       "      <th>0</th>\n",
       "      <td>-96182.315693</td>\n",
       "      <td>0.233999</td>\n",
       "      <td>-0.881421</td>\n",
       "      <td>0.242848</td>\n",
       "      <td>1.156323</td>\n",
       "      <td>1.559131</td>\n",
       "      <td>0.412031</td>\n",
       "    </tr>\n",
       "    <tr>\n",
       "      <th>1</th>\n",
       "      <td>-96181.315693</td>\n",
       "      <td>-0.601662</td>\n",
       "      <td>-0.720088</td>\n",
       "      <td>0.317171</td>\n",
       "      <td>-0.422829</td>\n",
       "      <td>-0.728213</td>\n",
       "      <td>1.334530</td>\n",
       "    </tr>\n",
       "    <tr>\n",
       "      <th>2</th>\n",
       "      <td>-96179.315693</td>\n",
       "      <td>-0.520248</td>\n",
       "      <td>0.177333</td>\n",
       "      <td>0.448714</td>\n",
       "      <td>0.006455</td>\n",
       "      <td>-1.270523</td>\n",
       "      <td>0.184701</td>\n",
       "    </tr>\n",
       "    <tr>\n",
       "      <th>3</th>\n",
       "      <td>-96178.315693</td>\n",
       "      <td>0.633335</td>\n",
       "      <td>-1.183514</td>\n",
       "      <td>-1.325474</td>\n",
       "      <td>0.944468</td>\n",
       "      <td>0.720979</td>\n",
       "      <td>-0.992128</td>\n",
       "    </tr>\n",
       "    <tr>\n",
       "      <th>4</th>\n",
       "      <td>-96177.315693</td>\n",
       "      <td>-0.091007</td>\n",
       "      <td>0.211360</td>\n",
       "      <td>1.496313</td>\n",
       "      <td>0.091843</td>\n",
       "      <td>-1.587450</td>\n",
       "      <td>-2.301234</td>\n",
       "    </tr>\n",
       "  </tbody>\n",
       "</table>\n",
       "</div>"
      ],
      "text/plain": [
       "            PC1       PC2       PC3       PC4       PC5       PC6       PC7\n",
       "0 -96182.315693  0.233999 -0.881421  0.242848  1.156323  1.559131  0.412031\n",
       "1 -96181.315693 -0.601662 -0.720088  0.317171 -0.422829 -0.728213  1.334530\n",
       "2 -96179.315693 -0.520248  0.177333  0.448714  0.006455 -1.270523  0.184701\n",
       "3 -96178.315693  0.633335 -1.183514 -1.325474  0.944468  0.720979 -0.992128\n",
       "4 -96177.315693 -0.091007  0.211360  1.496313  0.091843 -1.587450 -2.301234"
      ]
     },
     "execution_count": 26,
     "metadata": {},
     "output_type": "execute_result"
    }
   ],
   "source": [
    "pca_df = pca.transform(pca_df)\n",
    "pca_df = pd.DataFrame(pca_df,columns=['PC1','PC2','PC3','PC4','PC5','PC6','PC7'])\n",
    "pca_df.head()\n"
   ]
  },
  {
   "cell_type": "code",
   "execution_count": null,
   "id": "21d0f148",
   "metadata": {},
   "outputs": [],
   "source": []
  },
  {
   "cell_type": "code",
   "execution_count": 27,
   "id": "9e7cdf32",
   "metadata": {},
   "outputs": [],
   "source": [
    "#Apply K-means clustering and segment the data. (You may use original data or PCA transformed data) \n",
    "#a. Find the optimal K Value using elbow plot for Kmeans clustering.\n",
    "df_scaled=df.sample(20000)\n",
    "cluster_range = range(2,15)\n",
    "cluster_errors = []\n",
    "\n",
    "for num_clusters in cluster_range:\n",
    "   \n",
    "    clusters = KMeans(num_clusters, n_init=10)\n",
    "    clusters.fit(df_scaled)\n",
    "    \n",
    "    labels = clusters.labels_\n",
    "    centroids = clusters.cluster_centers_\n",
    "    \n",
    "    cluster_errors.append(clusters.inertia_)\n",
    "\n",
    "clusters_df = pd.DataFrame({'num_clusters':cluster_range, \n",
    "                           'cluster_errors':cluster_errors})\n",
    "\n"
   ]
  },
  {
   "cell_type": "code",
   "execution_count": 28,
   "id": "e7b13b5e",
   "metadata": {
    "scrolled": false
   },
   "outputs": [
    {
     "data": {
      "image/png": "[encoded data removed]",
      "text/plain": [
       "<Figure size 864x432 with 1 Axes>"
      ]
     },
     "metadata": {},
     "output_type": "display_data"
    }
   ],
   "source": [
    "#b. Build a Kmeans clustering model using the obtained optimal K value from the elbow plot.\n",
    "plt.figure(figsize=[12,6])\n",
    "plt.plot(clusters_df['num_clusters'],clusters_df['cluster_errors'],marker='o',color='b')\n",
    "plt.show()"
   ]
  },
  {
   "cell_type": "code",
   "execution_count": 29,
   "id": "2db81adb",
   "metadata": {},
   "outputs": [
    {
     "data": {
      "text/plain": [
       "KMeans(n_clusters=3, n_init=15, random_state=2345)"
      ]
     },
     "execution_count": 29,
     "metadata": {},
     "output_type": "execute_result"
    }
   ],
   "source": [
    "## Fit the KMeans clustering model using the obtained optimal K=3 since there is max drop at n=3\n",
    "kmeans = KMeans(n_clusters=3, n_init=15, random_state=2345)\n",
    "kmeans.fit(df_scaled)"
   ]
  },
  {
   "cell_type": "code",
   "execution_count": 30,
   "id": "8ba6c87b",
   "metadata": {},
   "outputs": [
    {
     "data": {
      "text/html": [
       "<div>\n",
       "<style scoped>\n",
       "    .dataframe tbody tr th:only-of-type {\n",
       "        vertical-align: middle;\n",
       "    }\n",
       "\n",
       "    .dataframe tbody tr th {\n",
       "        vertical-align: top;\n",
       "    }\n",
       "\n",
       "    .dataframe thead th {\n",
       "        text-align: right;\n",
       "    }\n",
       "</style>\n",
       "<table border=\"1\" class=\"dataframe\">\n",
       "  <thead>\n",
       "    <tr style=\"text-align: right;\">\n",
       "      <th></th>\n",
       "      <th>Labels</th>\n",
       "    </tr>\n",
       "  </thead>\n",
       "  <tbody>\n",
       "    <tr>\n",
       "      <th>0</th>\n",
       "      <td>0</td>\n",
       "    </tr>\n",
       "    <tr>\n",
       "      <th>1</th>\n",
       "      <td>0</td>\n",
       "    </tr>\n",
       "    <tr>\n",
       "      <th>2</th>\n",
       "      <td>1</td>\n",
       "    </tr>\n",
       "    <tr>\n",
       "      <th>3</th>\n",
       "      <td>1</td>\n",
       "    </tr>\n",
       "    <tr>\n",
       "      <th>4</th>\n",
       "      <td>0</td>\n",
       "    </tr>\n",
       "  </tbody>\n",
       "</table>\n",
       "</div>"
      ],
      "text/plain": [
       "   Labels\n",
       "0       0\n",
       "1       0\n",
       "2       1\n",
       "3       1\n",
       "4       0"
      ]
     },
     "execution_count": 30,
     "metadata": {},
     "output_type": "execute_result"
    }
   ],
   "source": [
    "### Creating a dataframe of the labels\n",
    "df_labels = pd.DataFrame(kmeans.labels_, columns=list(['Labels']))\n",
    "\n",
    "df_labels.head(5)"
   ]
  },
  {
   "cell_type": "code",
   "execution_count": 47,
   "id": "119a31a1",
   "metadata": {},
   "outputs": [],
   "source": [
    "df_labels['Labels'] = df_labels['Labels'].astype('category')"
   ]
  },
  {
   "cell_type": "code",
   "execution_count": 48,
   "id": "e45a545e",
   "metadata": {},
   "outputs": [
    {
     "data": {
      "text/html": [
       "<div>\n",
       "<style scoped>\n",
       "    .dataframe tbody tr th:only-of-type {\n",
       "        vertical-align: middle;\n",
       "    }\n",
       "\n",
       "    .dataframe tbody tr th {\n",
       "        vertical-align: top;\n",
       "    }\n",
       "\n",
       "    .dataframe thead th {\n",
       "        text-align: right;\n",
       "    }\n",
       "</style>\n",
       "<table border=\"1\" class=\"dataframe\">\n",
       "  <thead>\n",
       "    <tr style=\"text-align: right;\">\n",
       "      <th></th>\n",
       "      <th>index</th>\n",
       "      <th>Unnamed: 0</th>\n",
       "      <th>fit</th>\n",
       "      <th>bust size</th>\n",
       "      <th>weight</th>\n",
       "      <th>rating</th>\n",
       "      <th>rented for</th>\n",
       "      <th>body type</th>\n",
       "      <th>category</th>\n",
       "      <th>height</th>\n",
       "      <th>size</th>\n",
       "      <th>age</th>\n",
       "      <th>Labels</th>\n",
       "    </tr>\n",
       "  </thead>\n",
       "  <tbody>\n",
       "    <tr>\n",
       "      <th>0</th>\n",
       "      <td>0</td>\n",
       "      <td>-1.730530</td>\n",
       "      <td>-0.558031</td>\n",
       "      <td>-0.002052</td>\n",
       "      <td>-0.006570</td>\n",
       "      <td>0.640314</td>\n",
       "      <td>0.562354</td>\n",
       "      <td>0.018739</td>\n",
       "      <td>1.572312</td>\n",
       "      <td>0.970887</td>\n",
       "      <td>0.260740</td>\n",
       "      <td>-0.778397</td>\n",
       "      <td>0</td>\n",
       "    </tr>\n",
       "    <tr>\n",
       "      <th>1</th>\n",
       "      <td>1</td>\n",
       "      <td>-1.730512</td>\n",
       "      <td>-0.558031</td>\n",
       "      <td>-0.177639</td>\n",
       "      <td>-0.253558</td>\n",
       "      <td>0.640314</td>\n",
       "      <td>-0.245786</td>\n",
       "      <td>1.851133</td>\n",
       "      <td>-0.306283</td>\n",
       "      <td>0.243337</td>\n",
       "      <td>0.015236</td>\n",
       "      <td>0.504615</td>\n",
       "      <td>0</td>\n",
       "    </tr>\n",
       "    <tr>\n",
       "      <th>2</th>\n",
       "      <td>3</td>\n",
       "      <td>-1.730476</td>\n",
       "      <td>-0.558031</td>\n",
       "      <td>-0.089845</td>\n",
       "      <td>-0.105365</td>\n",
       "      <td>-0.752176</td>\n",
       "      <td>-1.053926</td>\n",
       "      <td>0.629537</td>\n",
       "      <td>-0.619382</td>\n",
       "      <td>-0.120439</td>\n",
       "      <td>-0.475772</td>\n",
       "      <td>0.183862</td>\n",
       "      <td>1</td>\n",
       "    </tr>\n",
       "    <tr>\n",
       "      <th>3</th>\n",
       "      <td>4</td>\n",
       "      <td>-1.730458</td>\n",
       "      <td>-0.558031</td>\n",
       "      <td>-0.177639</td>\n",
       "      <td>0.388610</td>\n",
       "      <td>0.640314</td>\n",
       "      <td>0.966424</td>\n",
       "      <td>-1.202857</td>\n",
       "      <td>-0.306283</td>\n",
       "      <td>1.334663</td>\n",
       "      <td>0.015236</td>\n",
       "      <td>-0.938774</td>\n",
       "      <td>1</td>\n",
       "    </tr>\n",
       "    <tr>\n",
       "      <th>4</th>\n",
       "      <td>5</td>\n",
       "      <td>-1.730440</td>\n",
       "      <td>-0.558031</td>\n",
       "      <td>-1.318950</td>\n",
       "      <td>0.042827</td>\n",
       "      <td>-0.752176</td>\n",
       "      <td>-1.862066</td>\n",
       "      <td>-1.202857</td>\n",
       "      <td>-0.619382</td>\n",
       "      <td>0.970887</td>\n",
       "      <td>-0.475772</td>\n",
       "      <td>1.948004</td>\n",
       "      <td>0</td>\n",
       "    </tr>\n",
       "  </tbody>\n",
       "</table>\n",
       "</div>"
      ],
      "text/plain": [
       "   index  Unnamed: 0       fit  bust size    weight    rating  rented for  \\\n",
       "0      0   -1.730530 -0.558031  -0.002052 -0.006570  0.640314    0.562354   \n",
       "1      1   -1.730512 -0.558031  -0.177639 -0.253558  0.640314   -0.245786   \n",
       "2      3   -1.730476 -0.558031  -0.089845 -0.105365 -0.752176   -1.053926   \n",
       "3      4   -1.730458 -0.558031  -0.177639  0.388610  0.640314    0.966424   \n",
       "4      5   -1.730440 -0.558031  -1.318950  0.042827 -0.752176   -1.862066   \n",
       "\n",
       "   body type  category    height      size       age Labels  \n",
       "0   0.018739  1.572312  0.970887  0.260740 -0.778397      0  \n",
       "1   1.851133 -0.306283  0.243337  0.015236  0.504615      0  \n",
       "2   0.629537 -0.619382 -0.120439 -0.475772  0.183862      1  \n",
       "3  -1.202857 -0.306283  1.334663  0.015236 -0.938774      1  \n",
       "4  -1.202857 -0.619382  0.970887 -0.475772  1.948004      0  "
      ]
     },
     "execution_count": 48,
     "metadata": {},
     "output_type": "execute_result"
    }
   ],
   "source": [
    "## joining the label dataframe with unscaled initial dataframe.(df)\n",
    "\n",
    "df_kmeans = df.join(df_labels)\n",
    "\n",
    "df_kmeans.head()"
   ]
  },
  {
   "cell_type": "code",
   "execution_count": 33,
   "id": "b56bdfaa",
   "metadata": {},
   "outputs": [
    {
     "data": {
      "text/plain": [
       "1    6711\n",
       "0    6681\n",
       "2    6608\n",
       "Name: Labels, dtype: int64"
      ]
     },
     "execution_count": 33,
     "metadata": {},
     "output_type": "execute_result"
    }
   ],
   "source": [
    "df_kmeans['Labels'].value_counts()"
   ]
  },
  {
   "cell_type": "code",
   "execution_count": 34,
   "id": "9bd40892",
   "metadata": {},
   "outputs": [
    {
     "name": "stdout",
     "output_type": "stream",
     "text": [
      "2 0.6270303907492487\n",
      "3 0.5886491284738772\n",
      "4 0.5732968213023689\n",
      "5 0.5607320372258702\n",
      "6 0.5525322129847077\n",
      "7 0.5474156618800945\n",
      "8 0.5455525342506113\n",
      "9 0.5441311444922546\n",
      "10 0.5406014518623019\n",
      "11 0.5376125226638314\n",
      "12 0.5363253661740004\n",
      "13 0.5352418089836704\n",
      "14 0.534643927979617\n"
     ]
    }
   ],
   "source": [
    "#c. Compute silhoutte score for evaluating the quality of the Kmeans clustering technique.\n",
    "\n",
    "from sklearn.metrics import silhouette_score\n",
    "\n",
    "kmeans_score = []\n",
    "\n",
    "for i in range(2,15):\n",
    "    kmeans = KMeans(n_clusters=i)\n",
    "    kmeans = kmeans.fit(df_scaled)\n",
    "    labels = kmeans.predict(df_scaled)\n",
    "    print(i,silhouette_score(df_scaled,labels))\n",
    "    \n",
    "#from above we can say that silhoutte score is more for cluster 2 and 3.\n",
    "#So, the clusters are labelled as 0,1,2"
   ]
  },
  {
   "cell_type": "code",
   "execution_count": null,
   "id": "17753f7f",
   "metadata": {},
   "outputs": [],
   "source": []
  },
  {
   "cell_type": "code",
   "execution_count": 35,
   "id": "11381259",
   "metadata": {},
   "outputs": [
    {
     "data": {
      "image/png": "[encoded data removed]",
      "text/plain": [
       "<Figure size 1008x648 with 1 Axes>"
      ]
     },
     "metadata": {},
     "output_type": "display_data"
    }
   ],
   "source": [
    "#Apply Agglomerative clustering and segment the data. (You may use original data or PCA transformed data) \n",
    "#a. Find the optimal K Value using dendrogram for Agglomerative clustering.\n",
    "ss = StandardScaler()\n",
    "\n",
    "df_scaled.iloc[:,:] = ss.fit_transform(df_scaled.iloc[:,:])\n",
    "\n",
    "plt.figure(figsize=[14,9])\n",
    "merg = linkage(df_scaled, method='ward')\n",
    "dendrogram(merg, leaf_rotation=90,)\n",
    "plt.xlabel('Datapoints')\n",
    "plt.ylabel('Euclidean distance')\n",
    "plt.show()"
   ]
  },
  {
   "cell_type": "code",
   "execution_count": 36,
   "id": "7ddee514",
   "metadata": {},
   "outputs": [],
   "source": [
    "#b. Build a Agglomerative clustering model using the obtained optimal K value observed from dendrogram\n",
    "hie_cluster = AgglomerativeClustering(n_clusters=3, affinity='euclidean',\n",
    "                                     linkage='ward')\n",
    "\n",
    "hie_cluster_model = hie_cluster.fit(df_scaled)"
   ]
  },
  {
   "cell_type": "code",
   "execution_count": 37,
   "id": "8af35b57",
   "metadata": {},
   "outputs": [
    {
     "data": {
      "text/html": [
       "<div>\n",
       "<style scoped>\n",
       "    .dataframe tbody tr th:only-of-type {\n",
       "        vertical-align: middle;\n",
       "    }\n",
       "\n",
       "    .dataframe tbody tr th {\n",
       "        vertical-align: top;\n",
       "    }\n",
       "\n",
       "    .dataframe thead th {\n",
       "        text-align: right;\n",
       "    }\n",
       "</style>\n",
       "<table border=\"1\" class=\"dataframe\">\n",
       "  <thead>\n",
       "    <tr style=\"text-align: right;\">\n",
       "      <th></th>\n",
       "      <th>Labels</th>\n",
       "    </tr>\n",
       "  </thead>\n",
       "  <tbody>\n",
       "    <tr>\n",
       "      <th>0</th>\n",
       "      <td>0</td>\n",
       "    </tr>\n",
       "    <tr>\n",
       "      <th>1</th>\n",
       "      <td>1</td>\n",
       "    </tr>\n",
       "    <tr>\n",
       "      <th>2</th>\n",
       "      <td>1</td>\n",
       "    </tr>\n",
       "    <tr>\n",
       "      <th>3</th>\n",
       "      <td>0</td>\n",
       "    </tr>\n",
       "    <tr>\n",
       "      <th>4</th>\n",
       "      <td>1</td>\n",
       "    </tr>\n",
       "    <tr>\n",
       "      <th>5</th>\n",
       "      <td>0</td>\n",
       "    </tr>\n",
       "    <tr>\n",
       "      <th>6</th>\n",
       "      <td>1</td>\n",
       "    </tr>\n",
       "    <tr>\n",
       "      <th>7</th>\n",
       "      <td>1</td>\n",
       "    </tr>\n",
       "    <tr>\n",
       "      <th>8</th>\n",
       "      <td>0</td>\n",
       "    </tr>\n",
       "    <tr>\n",
       "      <th>9</th>\n",
       "      <td>0</td>\n",
       "    </tr>\n",
       "  </tbody>\n",
       "</table>\n",
       "</div>"
      ],
      "text/plain": [
       "   Labels\n",
       "0       0\n",
       "1       1\n",
       "2       1\n",
       "3       0\n",
       "4       1\n",
       "5       0\n",
       "6       1\n",
       "7       1\n",
       "8       0\n",
       "9       0"
      ]
     },
     "execution_count": 37,
     "metadata": {},
     "output_type": "execute_result"
    }
   ],
   "source": [
    "## Creating a dataframe of the labels\n",
    "df_label1 = pd.DataFrame(hie_cluster_model.labels_,columns=['Labels'])\n",
    "df_label1.head(n=10)\n"
   ]
  },
  {
   "cell_type": "code",
   "execution_count": 38,
   "id": "f41c9946",
   "metadata": {},
   "outputs": [],
   "source": [
    "## joining the label dataframe with unscaled initial dataframe.(df)\n",
    "df_hier = df.join(df_label1)"
   ]
  },
  {
   "cell_type": "code",
   "execution_count": 39,
   "id": "816e4b64",
   "metadata": {},
   "outputs": [
    {
     "name": "stdout",
     "output_type": "stream",
     "text": [
      "2 0.09774354621090177\n",
      "3 0.09279034371408534\n",
      "4 0.08513357109935571\n",
      "5 0.048143991553388284\n",
      "6 0.04541720971673803\n",
      "7 0.053357434411057045\n",
      "8 0.03762939187068226\n",
      "9 0.03268744106735264\n",
      "10 0.02707935360214171\n",
      "11 0.03273557443921965\n",
      "12 0.03792517939284416\n",
      "13 0.03084471207837387\n",
      "14 0.03591809355928494\n"
     ]
    }
   ],
   "source": [
    "#c. Compute silhoutte score for evaluating the quality of the Agglomerative clustering technique\n",
    "\n",
    "from sklearn.metrics import silhouette_score\n",
    "for i in range(2,15):\n",
    "    hier = AgglomerativeClustering(n_clusters=i)\n",
    "    hier = hier.fit(df_scaled)\n",
    "    labels = hier.fit_predict(df_scaled)\n",
    "    print(i,silhouette_score(df_scaled,labels))\n",
    "    \n",
    "#from above we can say that silhoutte score is more for cluster 2 and 3.\n",
    "#Therefore there will be 3 classes using agglomerative clustering."
   ]
  },
  {
   "cell_type": "code",
   "execution_count": null,
   "id": "86a72ac0",
   "metadata": {},
   "outputs": [],
   "source": []
  },
  {
   "cell_type": "markdown",
   "id": "358e2d36",
   "metadata": {},
   "source": [
    "# 5. Conclusion :"
   ]
  },
  {
   "cell_type": "code",
   "execution_count": 40,
   "id": "db8f2454",
   "metadata": {},
   "outputs": [
    {
     "data": {
      "image/png": "[encoded data removed]",
      "text/plain": [
       "<Figure size 720x576 with 1 Axes>"
      ]
     },
     "metadata": {},
     "output_type": "display_data"
    }
   ],
   "source": [
    "#Perform cluster analysis by doing bivariate analysis between cluster label and different features and\n",
    "#write your conclusion on the results.\n",
    "sns.barplot(df_kmeans['Labels'],df_kmeans['rented for'])\n",
    "plt.show()\n",
    "#the below bar plot shows what peple have rented cloth for different purposes"
   ]
  },
  {
   "cell_type": "code",
   "execution_count": 41,
   "id": "6ea25ad3",
   "metadata": {},
   "outputs": [
    {
     "data": {
      "text/plain": [
       "<AxesSubplot:xlabel='Labels', ylabel='category'>"
      ]
     },
     "execution_count": 41,
     "metadata": {},
     "output_type": "execute_result"
    },
    {
     "data": {
      "image/png": "[encoded data removed]",
      "text/plain": [
       "<Figure size 1008x432 with 1 Axes>"
      ]
     },
     "metadata": {},
     "output_type": "display_data"
    }
   ],
   "source": [
    "#This scatter plot shows differnt categories of products\n",
    "sns.set(rc={\"figure.figsize\":(14, 6)})\n",
    "sns.scatterplot(df_hier['Labels'],df_hier['category'])"
   ]
  },
  {
   "cell_type": "code",
   "execution_count": 52,
   "id": "929f9bb5",
   "metadata": {
    "scrolled": true
   },
   "outputs": [
    {
     "data": {
      "image/png": "[encoded data removed]",
      "text/plain": [
       "<Figure size 1296x432 with 1 Axes>"
      ]
     },
     "metadata": {},
     "output_type": "display_data"
    }
   ],
   "source": [
    "#the below bar plot shows what peple have rented cloths for different purposes\n",
    "sns.set(rc={\"figure.figsize\":(18, 6)})\n",
    "sns.countplot(data = df_hier, x = 'rented for', hue = 'Labels')\n",
    "plt.show()"
   ]
  },
  {
   "cell_type": "code",
   "execution_count": 43,
   "id": "0c9e3c50",
   "metadata": {
    "scrolled": true
   },
   "outputs": [],
   "source": [
    "# We built Kmeans clustering and Agglomerative clustering models\n",
    "#*KMeans* - for chosing the optimal k value we used elbow method (we chose K=3)\n",
    "#*Agglomerative* - for chosing the optimal k value we used dendogram (we chose k=3)\n",
    "# To conculde which clustering technique is performing the best, we evaluated through silhouette score\n",
    "#For Kmeans the highest silhouette score value is 0.62 for 2 clusters\n",
    "#For Agglomerative the highest silhouette score value is 0.097 for 2 clusters\n",
    "#So, we can choose the KMeans clustering model as our best and final model and optimal number of clusters as 2\n",
    "# Most of the people have rented clothes for party,formal atire and wedding,therefore the company has to focus more on \n",
    "#these factors to achieve growth in their business"
   ]
  }
 ],
 "metadata": {
  "kernelspec": {
   "display_name": "Python 3 (ipykernel)",
   "language": "python",
   "name": "python3"
  },
  "language_info": {
   "codemirror_mode": {
    "name": "ipython",
    "version": 3
   },
   "file_extension": ".py",
   "mimetype": "text/x-python",
   "name": "python",
   "nbconvert_exporter": "python",
   "pygments_lexer": "ipython3",
   "version": "3.9.7"
  }
 },
 "nbformat": 4,
 "nbformat_minor": 5
}
